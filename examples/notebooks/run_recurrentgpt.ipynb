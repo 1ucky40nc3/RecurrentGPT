{
  "nbformat": 4,
  "nbformat_minor": 0,
  "metadata": {
    "colab": {
      "provenance": [],
      "authorship_tag": "ABX9TyNZYIGdDS3wfblj9YGx/2j9",
      "include_colab_link": true
    },
    "kernelspec": {
      "name": "python3",
      "display_name": "Python 3"
    },
    "language_info": {
      "name": "python"
    }
  },
  "cells": [
    {
      "cell_type": "markdown",
      "metadata": {
        "id": "view-in-github",
        "colab_type": "text"
      },
      "source": [
        "<a href=\"https://colab.research.google.com/github/1ucky40nc3/RecurrentGPT/blob/main/examples/notebooks/run_recurrentgpt.ipynb\" target=\"_parent\"><img src=\"https://colab.research.google.com/assets/colab-badge.svg\" alt=\"Open In Colab\"/></a>"
      ]
    },
    {
      "cell_type": "markdown",
      "source": [
        "# Set up your Colab Instance"
      ],
      "metadata": {
        "id": "BcXHysNRfvcM"
      }
    },
    {
      "cell_type": "code",
      "source": [
        "# @title Install Dependencies\n",
        "!pip install openai\n",
        "!pip install sentence_transformers"
      ],
      "metadata": {
        "id": "I4H30XBZPHcP"
      },
      "execution_count": null,
      "outputs": []
    },
    {
      "cell_type": "code",
      "execution_count": null,
      "metadata": {
        "id": "gvAwkWm3OdjK"
      },
      "outputs": [],
      "source": [
        "# @title Clone the Repository\n",
        "!git clone https://github.com/1ucky40nc3/RecurrentGPT.git\n",
        "%cd RecurrentGPT"
      ]
    },
    {
      "cell_type": "markdown",
      "source": [
        "## Set environment variables"
      ],
      "metadata": {
        "id": "6x233Wvnc-RQ"
      }
    },
    {
      "cell_type": "markdown",
      "source": [
        "We don't want to copy our API keys into any code cell. This could expose your secret if you aren't careful. Our solution is to access the API key from a private Google Drive. This can be done by creating text file that contains the OpenAI API key and uploading it to the GDrive. We mount this the private Google Drive to this Colab instance and access the file.\n",
        "\n",
        "Here ist some guidance:\n",
        "- Access your private OpenAI API keys [here](https://platform.openai.com/account/api-keys)"
      ],
      "metadata": {
        "id": "K42JrxrxdEO1"
      }
    },
    {
      "cell_type": "code",
      "source": [
        "# @title Authenticate and Mount the private Google Drive\n",
        "from google.colab import drive\n",
        "drive.mount(\"/content/gdrive\")"
      ],
      "metadata": {
        "id": "AlA7e-mVRwOx"
      },
      "execution_count": null,
      "outputs": []
    },
    {
      "cell_type": "code",
      "source": [
        "import os\n",
        "\n",
        "\n",
        "# Path to a text file containing a valid OpenAI API key \n",
        "GDRIVE_MOUNT_PATH = \"/content/gdrive/MyDrive\"\n",
        "# @markdown Enter the path to your API key file here:\n",
        "GDRIVE_KEY_FILE_PATH = \"api_keys/openai/key.txt\" # @param {type: \"string\"}\n",
        "\n",
        "path = os.path.join(GDRIVE_MOUNT_PATH, GDRIVE_KEY_FILE_PATH)\n",
        "\n",
        "# Read the API key\n",
        "with open(path, \"r\", encoding=\"utf-8\") as f:\n",
        "        api_key = f.read()\n",
        "\n",
        "# Set the API key\n",
        "os.environ[\"OPENAI_API_KEY\"] = api_key"
      ],
      "metadata": {
        "id": "lnE0GqPXP5_o"
      },
      "execution_count": null,
      "outputs": []
    },
    {
      "cell_type": "markdown",
      "source": [
        "# Do some Inference!"
      ],
      "metadata": {
        "id": "HQFDzv6vfuCc"
      }
    },
    {
      "cell_type": "code",
      "source": [
        "%cd /content/RecurrentGPT\n",
        "!python main.py \\\n",
        "    --iter 10 \\\n",
        "    --r_file response.txt \\\n",
        "    --init_prompt init_prompt.json \\\n",
        "    --topic \"Aliens\" \\\n",
        "    --type \"science-fiction\""
      ],
      "metadata": {
        "id": "ye25gBnNS2Y8"
      },
      "execution_count": null,
      "outputs": []
    }
  ]
}